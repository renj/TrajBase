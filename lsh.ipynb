{
 "cells": [
  {
   "cell_type": "code",
   "execution_count": 5,
   "metadata": {
    "collapsed": true
   },
   "outputs": [],
   "source": [
    "import pickle\n",
    "import pandas as pd\n",
    "import numpy as np\n",
    "import sys\n",
    "import time\n",
    "import random\n",
    "import tools\n",
    "import quad\n",
    "import bitlist"
   ]
  },
  {
   "cell_type": "code",
   "execution_count": 6,
   "metadata": {
    "collapsed": true
   },
   "outputs": [],
   "source": [
    "A = bitlist.read_A(1000, 50, '')\n",
    "time_interval, S = bitlist.read_S(1000, 50, '')"
   ]
  },
  {
   "cell_type": "code",
   "execution_count": 55,
   "metadata": {
    "collapsed": false
   },
   "outputs": [
    {
     "data": {
      "text/plain": [
       "(1642, 1001)"
      ]
     },
     "execution_count": 55,
     "metadata": {},
     "output_type": "execute_result"
    }
   ],
   "source": [
    "A.shape"
   ]
  },
  {
   "cell_type": "code",
   "execution_count": 56,
   "metadata": {
    "collapsed": false
   },
   "outputs": [],
   "source": [
    "from lshash import LSHash"
   ]
  },
  {
   "cell_type": "code",
   "execution_count": 84,
   "metadata": {
    "collapsed": false
   },
   "outputs": [],
   "source": [
    "def index(A, n_hash):\n",
    "    column_n = A.shape[1]\n",
    "    lsh = LSHash(n_hash, A.shape[0])\n",
    "    for i in range(column_n):\n",
    "        lsh.index(A[:,i], extra_data=i)\n",
    "    return lsh\n",
    "    "
   ]
  },
  {
   "cell_type": "code",
   "execution_count": 85,
   "metadata": {
    "collapsed": false
   },
   "outputs": [],
   "source": [
    "def cand_set(lsh, A, column):\n",
    "    cand = set()\n",
    "    ret = lsh.query(A[:,column])\n",
    "    for r in ret:\n",
    "        cand.add(r[0][1])\n",
    "    return cand\n"
   ]
  },
  {
   "cell_type": "code",
   "execution_count": 88,
   "metadata": {
    "collapsed": false
   },
   "outputs": [
    {
     "name": "stdout",
     "output_type": "stream",
     "text": [
      "131\n",
      "386\n",
      "38\n"
     ]
    }
   ],
   "source": [
    "lsh = index(A, 3)\n",
    "cands = cand_set(lsh, A,5)\n",
    "print len(cands)\n",
    "sims = set(S[5].nonzero()[0])\n",
    "print len(sims)\n",
    "a = (cands & sims)\n",
    "print len(a)"
   ]
  },
  {
   "cell_type": "code",
   "execution_count": 90,
   "metadata": {
    "collapsed": false
   },
   "outputs": [
    {
     "name": "stdout",
     "output_type": "stream",
     "text": [
      "517\n",
      "386\n",
      "217\n"
     ]
    }
   ],
   "source": [
    "lsh = index(A, 1)\n",
    "cands = cand_set(lsh, A,5)\n",
    "print len(cands)\n",
    "sims = set(S[5].nonzero()[0])\n",
    "print len(sims)\n",
    "a = (cands & sims)\n",
    "print len(a)"
   ]
  },
  {
   "cell_type": "code",
   "execution_count": 1,
   "metadata": {
    "collapsed": false
   },
   "outputs": [],
   "source": [
    "import nearpy"
   ]
  },
  {
   "cell_type": "code",
   "execution_count": 2,
   "metadata": {
    "collapsed": false
   },
   "outputs": [],
   "source": [
    "import numpy\n",
    "import scipy\n",
    "import unittest\n",
    "\n",
    "from nearpy import Engine\n",
    "from nearpy.distances import CosineDistance\n",
    "\n",
    "from nearpy.hashes import RandomBinaryProjections, RandomBinaryProjectionTree, HashPermutations, HashPermutationMapper"
   ]
  },
  {
   "cell_type": "code",
   "execution_count": 3,
   "metadata": {
    "collapsed": false
   },
   "outputs": [],
   "source": [
    "def example1():\n",
    "\n",
    "    # Dimension of feature space\n",
    "    DIM = 100\n",
    "\n",
    "    # Number of data points (dont do too much because of exact search)\n",
    "    POINTS = 10000\n",
    "\n",
    "    print 'Creating engines'\n",
    "\n",
    "    # We want 12 projections, 20 results at least\n",
    "    rbpt = RandomBinaryProjectionTree('rbpt', 20, 20)\n",
    "\n",
    "    # Create engine 1\n",
    "    engine_rbpt = Engine(DIM, lshashes=[rbpt], distance=CosineDistance())\n",
    "\n",
    "    # Create binary hash as child hash\n",
    "    rbp = RandomBinaryProjections('rbp1', 20)\n",
    "\n",
    "    # Create engine 2\n",
    "    engine = Engine(DIM, lshashes=[rbp], distance=CosineDistance())\n",
    "\n",
    "    # Create permutations meta-hash\n",
    "    permutations = HashPermutations('permut')\n",
    "\n",
    "    # Create binary hash as child hash\n",
    "    rbp_perm = RandomBinaryProjections('rbp_perm', 20)\n",
    "    rbp_conf = {'num_permutation':50,'beam_size':10,'num_neighbour':100}\n",
    "\n",
    "    # Add rbp as child hash of permutations hash\n",
    "    permutations.add_child_hash(rbp_perm, rbp_conf)\n",
    "\n",
    "    # Create engine 3\n",
    "    engine_perm = Engine(DIM, lshashes=[permutations], distance=CosineDistance())\n",
    "\n",
    "    # Create permutations meta-hash\n",
    "    permutations2 = HashPermutationMapper('permut2')\n",
    "\n",
    "    # Create binary hash as child hash\n",
    "    rbp_perm2 = RandomBinaryProjections('rbp_perm2', 12)\n",
    "\n",
    "    # Add rbp as child hash of permutations hash\n",
    "    permutations2.add_child_hash(rbp_perm2)\n",
    "\n",
    "    # Create engine 3\n",
    "    engine_perm2 = Engine(DIM, lshashes=[permutations2], distance=CosineDistance())\n",
    "\n",
    "    print 'Indexing %d random vectors of dimension %d' % (POINTS, DIM)\n",
    "\n",
    "    # First index some random vectors\n",
    "    matrix = numpy.zeros((POINTS,DIM))\n",
    "    for i in xrange(POINTS):\n",
    "        v = numpy.random.randn(DIM)\n",
    "        matrix[i] = v\n",
    "        engine.store_vector(v)\n",
    "        engine_rbpt.store_vector(v)\n",
    "        engine_perm.store_vector(v)\n",
    "        engine_perm2.store_vector(v)\n",
    "\n",
    "    print 'Buckets 1 = %d' % len(engine.storage.buckets['rbp1'].keys())\n",
    "    print 'Buckets 2 = %d' % len(engine_rbpt.storage.buckets['rbpt'].keys())\n",
    "\n",
    "    print 'Building permuted index for HashPermutations'\n",
    "\n",
    "    # Then update permuted index\n",
    "    permutations.build_permuted_index()\n",
    "\n",
    "    print 'Generate random data'\n",
    "\n",
    "    # Get random query vector\n",
    "    query = numpy.random.randn(DIM)\n",
    "\n",
    "    # Do random query on engine 1\n",
    "    print '\\nNeighbour distances with RandomBinaryProjectionTree:'\n",
    "    print '  -> Candidate count is %d' % engine_rbpt.candidate_count(query)\n",
    "    results = engine_rbpt.neighbours(query)\n",
    "    dists = [x[2] for x in results]\n",
    "    print dists\n",
    "\n",
    "    # Do random query on engine 2\n",
    "    print '\\nNeighbour distances with RandomBinaryProjections:'\n",
    "    print '  -> Candidate count is %d' % engine.candidate_count(query)\n",
    "    results = engine.neighbours(query)\n",
    "    dists = [x[2] for x in results]\n",
    "    print dists\n",
    "\n",
    "    # Do random query on engine 3\n",
    "    print '\\nNeighbour distances with HashPermutations:'\n",
    "    print '  -> Candidate count is %d' % engine_perm.candidate_count(query)\n",
    "    results = engine_perm.neighbours(query)\n",
    "    dists = [x[2] for x in results]\n",
    "    print dists\n",
    "\n",
    "    # Do random query on engine 4\n",
    "    print '\\nNeighbour distances with HashPermutations2:'\n",
    "    print '  -> Candidate count is %d' % engine_perm2.candidate_count(query)\n",
    "    results = engine_perm2.neighbours(query)\n",
    "    dists = [x[2] for x in results]\n",
    "    print dists\n",
    "\n",
    "    # Real neighbours\n",
    "    print '\\nReal neighbour distances:'\n",
    "    query = query.reshape((1,DIM))\n",
    "    dists = CosineDistance().distance_matrix(matrix,query)\n",
    "    dists = dists.reshape((-1,))\n",
    "    dists = sorted(dists)\n",
    "    print dists[:10]"
   ]
  },
  {
   "cell_type": "code",
   "execution_count": 4,
   "metadata": {
    "collapsed": false
   },
   "outputs": [
    {
     "name": "stdout",
     "output_type": "stream",
     "text": [
      "Creating engines\n",
      "Indexing 10000 random vectors of dimension 100\n",
      "Buckets 1 = 9895\n",
      "Buckets 2 = 9903\n",
      "Building permuted index for HashPermutations\n",
      "Generate random data\n",
      "\n",
      "Neighbour distances with RandomBinaryProjectionTree:\n",
      "  -> Candidate count is 22\n",
      "[0.75279125898781385, 0.75763150529554957, 0.80132326783656938, 0.84081080722148638, 0.8456066668366814, 0.89321068449782737, 0.89448837034061901, 0.89612003980675259, 0.9286927031793234, 0.94032646714325285]\n",
      "\n",
      "Neighbour distances with RandomBinaryProjections:\n",
      "  -> Candidate count is 0\n",
      "[]\n",
      "\n",
      "Neighbour distances with HashPermutations:\n",
      "  -> Candidate count is 101\n",
      "[0.61847355155100758, 0.69272406855355573, 0.72854469610472705, 0.77493127650593652, 0.77593775472136406, 0.77615193483789402, 0.77676755999287983, 0.78454372702584962, 0.7929423264427109, 0.80111657615334941]\n",
      "\n",
      "Neighbour distances with HashPermutations2:\n",
      "  -> Candidate count is 230\n",
      "[0.61847355155100758, 0.64072895107184324, 0.68033565105792992, 0.68124810465647556, 0.68484910535375021, 0.68933960106992676, 0.69135180310202704, 0.73355996664241241, 0.73552044229852453, 0.74188191871307696]\n",
      "\n",
      "Real neighbour distances:\n",
      "[0.61847355155100758, 0.64072895107184324, 0.67664059625090622, 0.68011869197117392, 0.68033565105792992, 0.68124810465647556, 0.68484910535375021, 0.68747834990190637, 0.68933960106992676, 0.69135180310202704]\n"
     ]
    },
    {
     "name": "stderr",
     "output_type": "stream",
     "text": [
      "/opt/anaconda/lib/python2.7/site-packages/NearPy-0.1.2-py2.7.egg/nearpy/distances/cosine.py:54: RuntimeWarning: invalid value encountered in divide\n"
     ]
    }
   ],
   "source": [
    "example1()"
   ]
  },
  {
   "cell_type": "code",
   "execution_count": 50,
   "metadata": {
    "collapsed": false
   },
   "outputs": [],
   "source": [
    "DIM = A.shape[0]\n",
    "permutations = HashPermutations('permut')\n",
    "\n",
    "# Create binary hash as child hash\n",
    "rbp_perm = RandomBinaryProjections('rbp_perm', 20)\n",
    "rbp_conf = {'num_permutation':50,'beam_size':10,'num_neighbour':100}\n",
    "\n",
    "# Add rbp as child hash of permutations hash\n",
    "permutations.add_child_hash(rbp_perm, rbp_conf)\n",
    "\n",
    "# Create engine 3\n",
    "engine_perm = Engine(DIM, lshashes=[permutations])\n",
    "\n",
    "for i in range(A.shape[1]):\n",
    "    engine_perm.store_vector(A[:,i], data = str(i))\n",
    "\n",
    "permutations.build_permuted_index()\n"
   ]
  },
  {
   "cell_type": "code",
   "execution_count": 51,
   "metadata": {
    "collapsed": false
   },
   "outputs": [],
   "source": [
    "results = engine_perm.neighbours(A[:,1])"
   ]
  },
  {
   "cell_type": "code",
   "execution_count": 52,
   "metadata": {
    "collapsed": false
   },
   "outputs": [
    {
     "data": {
      "text/plain": [
       "10"
      ]
     },
     "execution_count": 52,
     "metadata": {},
     "output_type": "execute_result"
    }
   ],
   "source": [
    "rst_set = set()\n",
    "for r in results:\n",
    "    rst_set.add(int(r[1]))\n",
    "len(rst_set)"
   ]
  },
  {
   "cell_type": "code",
   "execution_count": 57,
   "metadata": {
    "collapsed": false
   },
   "outputs": [
    {
     "data": {
      "text/plain": [
       "300"
      ]
     },
     "execution_count": 57,
     "metadata": {},
     "output_type": "execute_result"
    }
   ],
   "source": [
    "sim_set = set(S[i].argsort()[::-1][:300])\n",
    "len(sim_set)"
   ]
  },
  {
   "cell_type": "code",
   "execution_count": 58,
   "metadata": {
    "collapsed": false
   },
   "outputs": [
    {
     "data": {
      "text/plain": [
       "1"
      ]
     },
     "execution_count": 58,
     "metadata": {},
     "output_type": "execute_result"
    }
   ],
   "source": [
    "len(sim_set & rst_set)"
   ]
  },
  {
   "cell_type": "code",
   "execution_count": 47,
   "metadata": {
    "collapsed": true
   },
   "outputs": [],
   "source": [
    "sim_list = S[i].argsort()[::-1][:300]"
   ]
  },
  {
   "cell_type": "code",
   "execution_count": null,
   "metadata": {
    "collapsed": false
   },
   "outputs": [],
   "source": []
  },
  {
   "cell_type": "code",
   "execution_count": 49,
   "metadata": {
    "collapsed": false
   },
   "outputs": [
    {
     "data": {
      "text/plain": [
       "{265, 351, 381, 425, 598, 627, 680, 766, 882, 893}"
      ]
     },
     "execution_count": 49,
     "metadata": {},
     "output_type": "execute_result"
    }
   ],
   "source": [
    "sim_set"
   ]
  },
  {
   "cell_type": "code",
   "execution_count": 44,
   "metadata": {
    "collapsed": false
   },
   "outputs": [
    {
     "data": {
      "text/plain": [
       "array([381, 893, 265, 598, 882, 766, 680, 351, 627, 425])"
      ]
     },
     "execution_count": 44,
     "metadata": {},
     "output_type": "execute_result"
    }
   ],
   "source": [
    "sim_list"
   ]
  },
  {
   "cell_type": "code",
   "execution_count": 46,
   "metadata": {
    "collapsed": false
   },
   "outputs": [
    {
     "data": {
      "text/plain": [
       "356"
      ]
     },
     "execution_count": 46,
     "metadata": {},
     "output_type": "execute_result"
    }
   ],
   "source": [
    "len(S[i].nonzero()[0])"
   ]
  },
  {
   "cell_type": "code",
   "execution_count": null,
   "metadata": {
    "collapsed": true
   },
   "outputs": [],
   "source": []
  }
 ],
 "metadata": {
  "kernelspec": {
   "display_name": "Python 2",
   "language": "python",
   "name": "python2"
  },
  "language_info": {
   "codemirror_mode": {
    "name": "ipython",
    "version": 2
   },
   "file_extension": ".py",
   "mimetype": "text/x-python",
   "name": "python",
   "nbconvert_exporter": "python",
   "pygments_lexer": "ipython2",
   "version": "2.7.9"
  }
 },
 "nbformat": 4,
 "nbformat_minor": 0
}
