{
 "cells": [
  {
   "cell_type": "code",
   "execution_count": 23,
   "metadata": {
    "collapsed": true
   },
   "outputs": [],
   "source": [
    "import pandas as pd\n",
    "import copy"
   ]
  },
  {
   "cell_type": "code",
   "execution_count": 2,
   "metadata": {
    "collapsed": true
   },
   "outputs": [],
   "source": [
    "data = pd.read_csv('/home/renj/Data/NYCTaxi/trip_data_1.csv')"
   ]
  },
  {
   "cell_type": "code",
   "execution_count": 3,
   "metadata": {
    "collapsed": false
   },
   "outputs": [
    {
     "data": {
      "text/html": [
       "<div style=\"max-height:1000px;max-width:1500px;overflow:auto;\">\n",
       "<table border=\"1\" class=\"dataframe\">\n",
       "  <thead>\n",
       "    <tr style=\"text-align: right;\">\n",
       "      <th></th>\n",
       "      <th>medallion</th>\n",
       "      <th>hack_license</th>\n",
       "      <th>vendor_id</th>\n",
       "      <th>rate_code</th>\n",
       "      <th>store_and_fwd_flag</th>\n",
       "      <th>pickup_datetime</th>\n",
       "      <th>dropoff_datetime</th>\n",
       "      <th>passenger_count</th>\n",
       "      <th>trip_time_in_secs</th>\n",
       "      <th>trip_distance</th>\n",
       "      <th>pickup_longitude</th>\n",
       "      <th>pickup_latitude</th>\n",
       "      <th>dropoff_longitude</th>\n",
       "      <th>dropoff_latitude</th>\n",
       "    </tr>\n",
       "  </thead>\n",
       "  <tbody>\n",
       "    <tr>\n",
       "      <th>0</th>\n",
       "      <td> 89D227B655E5C82AECF13C3F540D4CF4</td>\n",
       "      <td> BA96DE419E711691B9445D6A6307C170</td>\n",
       "      <td> CMT</td>\n",
       "      <td> 1</td>\n",
       "      <td> N</td>\n",
       "      <td> 2013-01-01 15:11:48</td>\n",
       "      <td> 2013-01-01 15:18:10</td>\n",
       "      <td> 4</td>\n",
       "      <td> 382</td>\n",
       "      <td> 1.0</td>\n",
       "      <td>-73.978165</td>\n",
       "      <td> 40.757977</td>\n",
       "      <td>-73.989838</td>\n",
       "      <td> 40.751171</td>\n",
       "    </tr>\n",
       "    <tr>\n",
       "      <th>1</th>\n",
       "      <td> 0BD7C8F5BA12B88E0B67BED28BEA73D8</td>\n",
       "      <td> 9FD8F69F0804BDB5549F40E9DA1BE472</td>\n",
       "      <td> CMT</td>\n",
       "      <td> 1</td>\n",
       "      <td> N</td>\n",
       "      <td> 2013-01-06 00:18:35</td>\n",
       "      <td> 2013-01-06 00:22:54</td>\n",
       "      <td> 1</td>\n",
       "      <td> 259</td>\n",
       "      <td> 1.5</td>\n",
       "      <td>-74.006683</td>\n",
       "      <td> 40.731781</td>\n",
       "      <td>-73.994499</td>\n",
       "      <td> 40.750660</td>\n",
       "    </tr>\n",
       "    <tr>\n",
       "      <th>2</th>\n",
       "      <td> 0BD7C8F5BA12B88E0B67BED28BEA73D8</td>\n",
       "      <td> 9FD8F69F0804BDB5549F40E9DA1BE472</td>\n",
       "      <td> CMT</td>\n",
       "      <td> 1</td>\n",
       "      <td> N</td>\n",
       "      <td> 2013-01-05 18:49:41</td>\n",
       "      <td> 2013-01-05 18:54:23</td>\n",
       "      <td> 1</td>\n",
       "      <td> 282</td>\n",
       "      <td> 1.1</td>\n",
       "      <td>-74.004707</td>\n",
       "      <td> 40.737770</td>\n",
       "      <td>-74.009834</td>\n",
       "      <td> 40.726002</td>\n",
       "    </tr>\n",
       "    <tr>\n",
       "      <th>3</th>\n",
       "      <td> DFD2202EE08F7A8DC9A57B02ACB81FE2</td>\n",
       "      <td> 51EE87E3205C985EF8431D850C786310</td>\n",
       "      <td> CMT</td>\n",
       "      <td> 1</td>\n",
       "      <td> N</td>\n",
       "      <td> 2013-01-07 23:54:15</td>\n",
       "      <td> 2013-01-07 23:58:20</td>\n",
       "      <td> 2</td>\n",
       "      <td> 244</td>\n",
       "      <td> 0.7</td>\n",
       "      <td>-73.974602</td>\n",
       "      <td> 40.759945</td>\n",
       "      <td>-73.984734</td>\n",
       "      <td> 40.759388</td>\n",
       "    </tr>\n",
       "    <tr>\n",
       "      <th>4</th>\n",
       "      <td> DFD2202EE08F7A8DC9A57B02ACB81FE2</td>\n",
       "      <td> 51EE87E3205C985EF8431D850C786310</td>\n",
       "      <td> CMT</td>\n",
       "      <td> 1</td>\n",
       "      <td> N</td>\n",
       "      <td> 2013-01-07 23:25:03</td>\n",
       "      <td> 2013-01-07 23:34:24</td>\n",
       "      <td> 1</td>\n",
       "      <td> 560</td>\n",
       "      <td> 2.1</td>\n",
       "      <td>-73.976250</td>\n",
       "      <td> 40.748528</td>\n",
       "      <td>-74.002586</td>\n",
       "      <td> 40.747868</td>\n",
       "    </tr>\n",
       "  </tbody>\n",
       "</table>\n",
       "</div>"
      ],
      "text/plain": [
       "                          medallion                      hack_license  \\\n",
       "0  89D227B655E5C82AECF13C3F540D4CF4  BA96DE419E711691B9445D6A6307C170   \n",
       "1  0BD7C8F5BA12B88E0B67BED28BEA73D8  9FD8F69F0804BDB5549F40E9DA1BE472   \n",
       "2  0BD7C8F5BA12B88E0B67BED28BEA73D8  9FD8F69F0804BDB5549F40E9DA1BE472   \n",
       "3  DFD2202EE08F7A8DC9A57B02ACB81FE2  51EE87E3205C985EF8431D850C786310   \n",
       "4  DFD2202EE08F7A8DC9A57B02ACB81FE2  51EE87E3205C985EF8431D850C786310   \n",
       "\n",
       "  vendor_id  rate_code store_and_fwd_flag      pickup_datetime  \\\n",
       "0       CMT          1                  N  2013-01-01 15:11:48   \n",
       "1       CMT          1                  N  2013-01-06 00:18:35   \n",
       "2       CMT          1                  N  2013-01-05 18:49:41   \n",
       "3       CMT          1                  N  2013-01-07 23:54:15   \n",
       "4       CMT          1                  N  2013-01-07 23:25:03   \n",
       "\n",
       "      dropoff_datetime  passenger_count  trip_time_in_secs  trip_distance  \\\n",
       "0  2013-01-01 15:18:10                4                382            1.0   \n",
       "1  2013-01-06 00:22:54                1                259            1.5   \n",
       "2  2013-01-05 18:54:23                1                282            1.1   \n",
       "3  2013-01-07 23:58:20                2                244            0.7   \n",
       "4  2013-01-07 23:34:24                1                560            2.1   \n",
       "\n",
       "   pickup_longitude  pickup_latitude  dropoff_longitude  dropoff_latitude  \n",
       "0        -73.978165        40.757977         -73.989838         40.751171  \n",
       "1        -74.006683        40.731781         -73.994499         40.750660  \n",
       "2        -74.004707        40.737770         -74.009834         40.726002  \n",
       "3        -73.974602        40.759945         -73.984734         40.759388  \n",
       "4        -73.976250        40.748528         -74.002586         40.747868  "
      ]
     },
     "execution_count": 3,
     "metadata": {},
     "output_type": "execute_result"
    }
   ],
   "source": [
    "data.head()"
   ]
  },
  {
   "cell_type": "code",
   "execution_count": 16,
   "metadata": {
    "collapsed": false
   },
   "outputs": [
    {
     "data": {
      "text/plain": [
       "683.4235930894863"
      ]
     },
     "execution_count": 16,
     "metadata": {},
     "output_type": "execute_result"
    }
   ],
   "source": [
    "data.trip_time_in_secs.mean()"
   ]
  },
  {
   "cell_type": "code",
   "execution_count": 17,
   "metadata": {
    "collapsed": false
   },
   "outputs": [
    {
     "data": {
      "text/plain": [
       "0"
      ]
     },
     "execution_count": 17,
     "metadata": {},
     "output_type": "execute_result"
    }
   ],
   "source": [
    "data.trip_time_in_secs.min()"
   ]
  },
  {
   "cell_type": "code",
   "execution_count": 18,
   "metadata": {
    "collapsed": false
   },
   "outputs": [
    {
     "data": {
      "text/plain": [
       "10800"
      ]
     },
     "execution_count": 18,
     "metadata": {},
     "output_type": "execute_result"
    }
   ],
   "source": [
    "data.trip_time_in_secs.max()"
   ]
  },
  {
   "cell_type": "code",
   "execution_count": 4,
   "metadata": {
    "collapsed": true
   },
   "outputs": [],
   "source": [
    "fare = pd.read_csv('/home/renj/Data/NYCTaxi/trip_fare_1.csv')"
   ]
  },
  {
   "cell_type": "code",
   "execution_count": 5,
   "metadata": {
    "collapsed": false
   },
   "outputs": [
    {
     "data": {
      "text/html": [
       "<div style=\"max-height:1000px;max-width:1500px;overflow:auto;\">\n",
       "<table border=\"1\" class=\"dataframe\">\n",
       "  <thead>\n",
       "    <tr style=\"text-align: right;\">\n",
       "      <th></th>\n",
       "      <th>medallion</th>\n",
       "      <th> hack_license</th>\n",
       "      <th> vendor_id</th>\n",
       "      <th> pickup_datetime</th>\n",
       "      <th> payment_type</th>\n",
       "      <th> fare_amount</th>\n",
       "      <th> surcharge</th>\n",
       "      <th> mta_tax</th>\n",
       "      <th> tip_amount</th>\n",
       "      <th> tolls_amount</th>\n",
       "      <th> total_amount</th>\n",
       "    </tr>\n",
       "  </thead>\n",
       "  <tbody>\n",
       "    <tr>\n",
       "      <th>0</th>\n",
       "      <td> 89D227B655E5C82AECF13C3F540D4CF4</td>\n",
       "      <td> BA96DE419E711691B9445D6A6307C170</td>\n",
       "      <td> CMT</td>\n",
       "      <td> 2013-01-01 15:11:48</td>\n",
       "      <td> CSH</td>\n",
       "      <td> 6.5</td>\n",
       "      <td> 0.0</td>\n",
       "      <td> 0.5</td>\n",
       "      <td> 0</td>\n",
       "      <td> 0</td>\n",
       "      <td>  7.0</td>\n",
       "    </tr>\n",
       "    <tr>\n",
       "      <th>1</th>\n",
       "      <td> 0BD7C8F5BA12B88E0B67BED28BEA73D8</td>\n",
       "      <td> 9FD8F69F0804BDB5549F40E9DA1BE472</td>\n",
       "      <td> CMT</td>\n",
       "      <td> 2013-01-06 00:18:35</td>\n",
       "      <td> CSH</td>\n",
       "      <td> 6.0</td>\n",
       "      <td> 0.5</td>\n",
       "      <td> 0.5</td>\n",
       "      <td> 0</td>\n",
       "      <td> 0</td>\n",
       "      <td>  7.0</td>\n",
       "    </tr>\n",
       "    <tr>\n",
       "      <th>2</th>\n",
       "      <td> 0BD7C8F5BA12B88E0B67BED28BEA73D8</td>\n",
       "      <td> 9FD8F69F0804BDB5549F40E9DA1BE472</td>\n",
       "      <td> CMT</td>\n",
       "      <td> 2013-01-05 18:49:41</td>\n",
       "      <td> CSH</td>\n",
       "      <td> 5.5</td>\n",
       "      <td> 1.0</td>\n",
       "      <td> 0.5</td>\n",
       "      <td> 0</td>\n",
       "      <td> 0</td>\n",
       "      <td>  7.0</td>\n",
       "    </tr>\n",
       "    <tr>\n",
       "      <th>3</th>\n",
       "      <td> DFD2202EE08F7A8DC9A57B02ACB81FE2</td>\n",
       "      <td> 51EE87E3205C985EF8431D850C786310</td>\n",
       "      <td> CMT</td>\n",
       "      <td> 2013-01-07 23:54:15</td>\n",
       "      <td> CSH</td>\n",
       "      <td> 5.0</td>\n",
       "      <td> 0.5</td>\n",
       "      <td> 0.5</td>\n",
       "      <td> 0</td>\n",
       "      <td> 0</td>\n",
       "      <td>  6.0</td>\n",
       "    </tr>\n",
       "    <tr>\n",
       "      <th>4</th>\n",
       "      <td> DFD2202EE08F7A8DC9A57B02ACB81FE2</td>\n",
       "      <td> 51EE87E3205C985EF8431D850C786310</td>\n",
       "      <td> CMT</td>\n",
       "      <td> 2013-01-07 23:25:03</td>\n",
       "      <td> CSH</td>\n",
       "      <td> 9.5</td>\n",
       "      <td> 0.5</td>\n",
       "      <td> 0.5</td>\n",
       "      <td> 0</td>\n",
       "      <td> 0</td>\n",
       "      <td> 10.5</td>\n",
       "    </tr>\n",
       "  </tbody>\n",
       "</table>\n",
       "</div>"
      ],
      "text/plain": [
       "                          medallion                      hack_license  \\\n",
       "0  89D227B655E5C82AECF13C3F540D4CF4  BA96DE419E711691B9445D6A6307C170   \n",
       "1  0BD7C8F5BA12B88E0B67BED28BEA73D8  9FD8F69F0804BDB5549F40E9DA1BE472   \n",
       "2  0BD7C8F5BA12B88E0B67BED28BEA73D8  9FD8F69F0804BDB5549F40E9DA1BE472   \n",
       "3  DFD2202EE08F7A8DC9A57B02ACB81FE2  51EE87E3205C985EF8431D850C786310   \n",
       "4  DFD2202EE08F7A8DC9A57B02ACB81FE2  51EE87E3205C985EF8431D850C786310   \n",
       "\n",
       "   vendor_id      pickup_datetime  payment_type   fare_amount   surcharge  \\\n",
       "0        CMT  2013-01-01 15:11:48           CSH           6.5         0.0   \n",
       "1        CMT  2013-01-06 00:18:35           CSH           6.0         0.5   \n",
       "2        CMT  2013-01-05 18:49:41           CSH           5.5         1.0   \n",
       "3        CMT  2013-01-07 23:54:15           CSH           5.0         0.5   \n",
       "4        CMT  2013-01-07 23:25:03           CSH           9.5         0.5   \n",
       "\n",
       "    mta_tax   tip_amount   tolls_amount   total_amount  \n",
       "0       0.5            0              0            7.0  \n",
       "1       0.5            0              0            7.0  \n",
       "2       0.5            0              0            7.0  \n",
       "3       0.5            0              0            6.0  \n",
       "4       0.5            0              0           10.5  "
      ]
     },
     "execution_count": 5,
     "metadata": {},
     "output_type": "execute_result"
    }
   ],
   "source": [
    "fare.head()"
   ]
  },
  {
   "cell_type": "code",
   "execution_count": 13,
   "metadata": {
    "collapsed": false
   },
   "outputs": [
    {
     "data": {
      "text/plain": [
       "13.952984997578906"
      ]
     },
     "execution_count": 13,
     "metadata": {},
     "output_type": "execute_result"
    }
   ],
   "source": [
    "fare[' total_amount'].mean()"
   ]
  },
  {
   "cell_type": "code",
   "execution_count": 28,
   "metadata": {
    "collapsed": false
   },
   "outputs": [
    {
     "data": {
      "text/plain": [
       "650.0"
      ]
     },
     "execution_count": 28,
     "metadata": {},
     "output_type": "execute_result"
    }
   ],
   "source": [
    "fare[' total_amount'].max()"
   ]
  },
  {
   "cell_type": "code",
   "execution_count": 15,
   "metadata": {
    "collapsed": false
   },
   "outputs": [
    {
     "data": {
      "text/plain": [
       "2.5"
      ]
     },
     "execution_count": 15,
     "metadata": {},
     "output_type": "execute_result"
    }
   ],
   "source": [
    "fare[' total_amount'].min()"
   ]
  },
  {
   "cell_type": "code",
   "execution_count": 24,
   "metadata": {
    "collapsed": true
   },
   "outputs": [],
   "source": [
    "total = copy.copy(fare[' total_amount'])"
   ]
  },
  {
   "cell_type": "code",
   "execution_count": 25,
   "metadata": {
    "collapsed": false
   },
   "outputs": [],
   "source": [
    "total.sort()"
   ]
  },
  {
   "cell_type": "code",
   "execution_count": 27,
   "metadata": {
    "collapsed": false
   },
   "outputs": [
    {
     "data": {
      "text/plain": [
       "3876408    500.00\n",
       "6212228    500.00\n",
       "3264500    500.00\n",
       "7073706    500.00\n",
       "6882279    500.00\n",
       "9685471    500.00\n",
       "2895317    500.50\n",
       "6400093    508.25\n",
       "2600051    650.00\n",
       "2652213    650.00\n",
       "Name:  total_amount, dtype: float64"
      ]
     },
     "execution_count": 27,
     "metadata": {},
     "output_type": "execute_result"
    }
   ],
   "source": [
    "total[-10:]"
   ]
  },
  {
   "cell_type": "code",
   "execution_count": 29,
   "metadata": {
    "collapsed": false
   },
   "outputs": [
    {
     "data": {
      "text/plain": [
       "14776615"
      ]
     },
     "execution_count": 29,
     "metadata": {},
     "output_type": "execute_result"
    }
   ],
   "source": [
    "len(total)"
   ]
  },
  {
   "cell_type": "code",
   "execution_count": 30,
   "metadata": {
    "collapsed": true
   },
   "outputs": [],
   "source": [
    "del data"
   ]
  },
  {
   "cell_type": "code",
   "execution_count": 31,
   "metadata": {
    "collapsed": true
   },
   "outputs": [],
   "source": [
    "del fare"
   ]
  },
  {
   "cell_type": "code",
   "execution_count": null,
   "metadata": {
    "collapsed": true
   },
   "outputs": [],
   "source": []
  }
 ],
 "metadata": {
  "kernelspec": {
   "display_name": "Python 2",
   "language": "python",
   "name": "python2"
  },
  "language_info": {
   "codemirror_mode": {
    "name": "ipython",
    "version": 2
   },
   "file_extension": ".py",
   "mimetype": "text/x-python",
   "name": "python",
   "nbconvert_exporter": "python",
   "pygments_lexer": "ipython2",
   "version": "2.7.9"
  }
 },
 "nbformat": 4,
 "nbformat_minor": 0
}
