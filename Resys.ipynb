{
 "metadata": {
  "name": ""
 },
 "nbformat": 3,
 "nbformat_minor": 0,
 "worksheets": [
  {
   "cells": [
    {
     "cell_type": "code",
     "collapsed": false,
     "input": [
      "import pandas as pd\n",
      "import numpy as np"
     ],
     "language": "python",
     "metadata": {},
     "outputs": [],
     "prompt_number": 27
    },
    {
     "cell_type": "code",
     "collapsed": false,
     "input": [
      "item = pd.read_csv(\"/Users/renj/Data/Tianchi/tianchi_mobile_recommend_train_item.csv\")"
     ],
     "language": "python",
     "metadata": {},
     "outputs": [],
     "prompt_number": 2
    },
    {
     "cell_type": "code",
     "collapsed": false,
     "input": [
      "user = pd.read_csv(\"/Users/renj/Data/Tianchi/tianchi_mobile_recommend_train_user.csv\", nrows = 1000000, parse_dates = [5])"
     ],
     "language": "python",
     "metadata": {},
     "outputs": [],
     "prompt_number": 205
    },
    {
     "cell_type": "code",
     "collapsed": false,
     "input": [
      "len(user),len(user[user.time > np.datetime64('2014-12-17 22:00:00')])"
     ],
     "language": "python",
     "metadata": {},
     "outputs": [
      {
       "metadata": {},
       "output_type": "pyout",
       "prompt_number": 135,
       "text": [
        "(500000, 24097)"
       ]
      }
     ],
     "prompt_number": 135
    },
    {
     "cell_type": "code",
     "collapsed": false,
     "input": [],
     "language": "python",
     "metadata": {},
     "outputs": [],
     "prompt_number": 135
    },
    {
     "cell_type": "code",
     "collapsed": false,
     "input": [
      "def kfold(nx, ny, n_folds):\n",
      "    x = np.random.random_integers(n_folds, size = (nx))\n",
      "    y = np.random.random_integers(n_folds, size = (ny))\n",
      "    for i in range(1, n_folds+1):\n",
      "        yield (x == i), (y == i)\n",
      "        \n",
      "def recommend(train):\n",
      "    #choose = train[(train.behavior_type == 3) | (train.behavior_type == 4) | (train.behavior_type == 2)]\n",
      "    choose = train[(train.behavior_type == 2)]\n",
      "\n",
      "    u = choose.user_id\n",
      "    i = choose.item_id\n",
      "    return zip(u,i)\n",
      "\n",
      "def result(train, test):\n",
      "    predict = set(recommend(train))\n",
      "    true = set(zip(test[test.behavior_type == 4].user_id, test[test.behavior_type == 4].item_id))\n",
      "    print len(predict), len(true)\n",
      "    \n",
      "    _inter = len(predict & true) * 1.0\n",
      "    precision = _inter / len(true)\n",
      "    recall = _inter / len(predict)\n",
      "    print \"precision: %.2f%%\\trecall: %.2f%%\\tf1: %.2f%%\" % \\\n",
      "        (precision*100, recall*100, 2*precision*recall*100/(precision+recall+0.001))\n",
      "\n",
      "print len(train), len(recommend(train))"
     ],
     "language": "python",
     "metadata": {},
     "outputs": [
      {
       "output_type": "stream",
       "stream": "stdout",
       "text": [
        "486397 8988\n"
       ]
      }
     ],
     "prompt_number": 175
    },
    {
     "cell_type": "code",
     "collapsed": false,
     "input": [
      "user = pd.read_csv(\"/Users/renj/Data/Tianchi/tianchi_mobile_recommend_train_user.csv\", parse_dates = [5])\n",
      "train = user[user.time <= np.datetime64('2014-12-18 12:00:00')]\n",
      "test = user[user.time > np.datetime64('2014-12-18 12:00:00')]\n",
      "print len(train), len(test)\n",
      "#r = kfold(len(train), len(test), 1)"
     ],
     "language": "python",
     "metadata": {},
     "outputs": [
      {
       "output_type": "stream",
       "stream": "stdout",
       "text": [
        "11966806 345736\n"
       ]
      }
     ],
     "prompt_number": 208
    },
    {
     "cell_type": "code",
     "collapsed": false,
     "input": [
      "print \"behavior_type == 4\"\n",
      "result(train, test)"
     ],
     "language": "python",
     "metadata": {},
     "outputs": [
      {
       "output_type": "stream",
       "stream": "stdout",
       "text": [
        "behavior_type == 4\n",
        "4484 138\n",
        "precision: 0.72%\trecall: 0.02%\tf1: 0.04%\n"
       ]
      }
     ],
     "prompt_number": 172
    },
    {
     "cell_type": "code",
     "collapsed": false,
     "input": [
      "def recommend(train):\n",
      "    #choose = train[(train.behavior_type == 3) | (train.behavior_type == 4) | (train.behavior_type == 2)]\n",
      "    choose = train[(train.behavior_type == 3) & (train.time > np.datetime64('2014-12-17 12:00:00'))]\n",
      "\n",
      "    u = choose.user_id\n",
      "    i = choose.item_id\n",
      "    return zip(u,i)\n",
      "\n",
      "result(train, test)"
     ],
     "language": "python",
     "metadata": {},
     "outputs": [
      {
       "output_type": "stream",
       "stream": "stdout",
       "text": [
        "10202 3112\n",
        "precision: 9.61%\trecall: 2.93%\tf1: 4.46%\n"
       ]
      }
     ],
     "prompt_number": 209
    },
    {
     "cell_type": "code",
     "collapsed": false,
     "input": [
      "a = user.user_id.groupby([user['user_id'], user['behavior_type']]).count()\n",
      "b = a.unstack()"
     ],
     "language": "python",
     "metadata": {},
     "outputs": [],
     "prompt_number": 210
    },
    {
     "cell_type": "code",
     "collapsed": false,
     "input": [
      "b = b.fillna(0)\n"
     ],
     "language": "python",
     "metadata": {},
     "outputs": [],
     "prompt_number": 212
    },
    {
     "cell_type": "code",
     "collapsed": false,
     "input": [
      "b.sort([4])[-10:]"
     ],
     "language": "python",
     "metadata": {},
     "outputs": [
      {
       "html": [
        "<div style=\"max-height:1000px;max-width:1500px;overflow:auto;\">\n",
        "<table border=\"1\" class=\"dataframe\">\n",
        "  <thead>\n",
        "    <tr style=\"text-align: right;\">\n",
        "      <th>behavior_type</th>\n",
        "      <th>1</th>\n",
        "      <th>2</th>\n",
        "      <th>3</th>\n",
        "      <th>4</th>\n",
        "    </tr>\n",
        "    <tr>\n",
        "      <th>user_id</th>\n",
        "      <th></th>\n",
        "      <th></th>\n",
        "      <th></th>\n",
        "      <th></th>\n",
        "    </tr>\n",
        "  </thead>\n",
        "  <tbody>\n",
        "    <tr>\n",
        "      <th>111625873</th>\n",
        "      <td> 1596</td>\n",
        "      <td>   1</td>\n",
        "      <td>  96</td>\n",
        "      <td> 173</td>\n",
        "    </tr>\n",
        "    <tr>\n",
        "      <th>1561610  </th>\n",
        "      <td> 4903</td>\n",
        "      <td>   8</td>\n",
        "      <td> 431</td>\n",
        "      <td> 176</td>\n",
        "    </tr>\n",
        "    <tr>\n",
        "      <th>133641782</th>\n",
        "      <td> 5117</td>\n",
        "      <td>  86</td>\n",
        "      <td> 365</td>\n",
        "      <td> 177</td>\n",
        "    </tr>\n",
        "    <tr>\n",
        "      <th>26504487 </th>\n",
        "      <td> 2730</td>\n",
        "      <td>   0</td>\n",
        "      <td> 344</td>\n",
        "      <td> 184</td>\n",
        "    </tr>\n",
        "    <tr>\n",
        "      <th>79913871 </th>\n",
        "      <td> 7984</td>\n",
        "      <td> 143</td>\n",
        "      <td> 224</td>\n",
        "      <td> 186</td>\n",
        "    </tr>\n",
        "    <tr>\n",
        "      <th>110488779</th>\n",
        "      <td> 2501</td>\n",
        "      <td>   1</td>\n",
        "      <td> 418</td>\n",
        "      <td> 194</td>\n",
        "    </tr>\n",
        "    <tr>\n",
        "      <th>135321016</th>\n",
        "      <td> 7118</td>\n",
        "      <td> 275</td>\n",
        "      <td> 128</td>\n",
        "      <td> 209</td>\n",
        "    </tr>\n",
        "    <tr>\n",
        "      <th>64087996 </th>\n",
        "      <td> 3544</td>\n",
        "      <td>  15</td>\n",
        "      <td> 402</td>\n",
        "      <td> 241</td>\n",
        "    </tr>\n",
        "    <tr>\n",
        "      <th>205463   </th>\n",
        "      <td> 2677</td>\n",
        "      <td>   0</td>\n",
        "      <td> 366</td>\n",
        "      <td> 248</td>\n",
        "    </tr>\n",
        "    <tr>\n",
        "      <th>135670856</th>\n",
        "      <td> 6753</td>\n",
        "      <td> 335</td>\n",
        "      <td> 753</td>\n",
        "      <td> 395</td>\n",
        "    </tr>\n",
        "  </tbody>\n",
        "</table>\n",
        "<p>10 rows \u00d7 4 columns</p>\n",
        "</div>"
       ],
       "metadata": {},
       "output_type": "pyout",
       "prompt_number": 225,
       "text": [
        "behavior_type     1    2    3    4\n",
        "user_id                           \n",
        "111625873      1596    1   96  173\n",
        "1561610        4903    8  431  176\n",
        "133641782      5117   86  365  177\n",
        "26504487       2730    0  344  184\n",
        "79913871       7984  143  224  186\n",
        "110488779      2501    1  418  194\n",
        "135321016      7118  275  128  209\n",
        "64087996       3544   15  402  241\n",
        "205463         2677    0  366  248\n",
        "135670856      6753  335  753  395\n",
        "\n",
        "[10 rows x 4 columns]"
       ]
      }
     ],
     "prompt_number": 225
    },
    {
     "cell_type": "code",
     "collapsed": false,
     "input": [
      "user.useuser.user_id.unique"
     ],
     "language": "python",
     "metadata": {},
     "outputs": [
      {
       "metadata": {},
       "output_type": "pyout",
       "prompt_number": 226,
       "text": [
        "array([ 99512554,   9909811,  98692568, ...,  69938358, 111058701,\n",
        "        61779211])"
       ]
      }
     ],
     "prompt_number": 226
    },
    {
     "cell_type": "code",
     "collapsed": false,
     "input": [
      "user[(user.behavior_type == 3) & (user.user_id == 99512554)]"
     ],
     "language": "python",
     "metadata": {},
     "outputs": [
      {
       "html": [
        "<div style=\"max-height:1000px;max-width:1500px;overflow:auto;\">\n",
        "<table border=\"1\" class=\"dataframe\">\n",
        "  <thead>\n",
        "    <tr style=\"text-align: right;\">\n",
        "      <th></th>\n",
        "      <th>user_id</th>\n",
        "      <th>item_id</th>\n",
        "      <th>behavior_type</th>\n",
        "      <th>user_geohash</th>\n",
        "      <th>item_category</th>\n",
        "      <th>time</th>\n",
        "    </tr>\n",
        "  </thead>\n",
        "  <tbody>\n",
        "    <tr>\n",
        "      <th>0       </th>\n",
        "      <td> 99512554</td>\n",
        "      <td>  37320317</td>\n",
        "      <td> 3</td>\n",
        "      <td> 94gn6nd</td>\n",
        "      <td>  9232</td>\n",
        "      <td>2014-11-26 20:00:00</td>\n",
        "    </tr>\n",
        "    <tr>\n",
        "      <th>3681524 </th>\n",
        "      <td> 99512554</td>\n",
        "      <td> 268336370</td>\n",
        "      <td> 3</td>\n",
        "      <td> 94gn62m</td>\n",
        "      <td>  8179</td>\n",
        "      <td>2014-11-26 20:00:00</td>\n",
        "    </tr>\n",
        "    <tr>\n",
        "      <th>3681545 </th>\n",
        "      <td> 99512554</td>\n",
        "      <td> 383906299</td>\n",
        "      <td> 3</td>\n",
        "      <td> 94gn6na</td>\n",
        "      <td>  5273</td>\n",
        "      <td>2014-11-26 20:00:00</td>\n",
        "    </tr>\n",
        "    <tr>\n",
        "      <th>3681551 </th>\n",
        "      <td> 99512554</td>\n",
        "      <td>  84390158</td>\n",
        "      <td> 3</td>\n",
        "      <td> 94gn6no</td>\n",
        "      <td>  5273</td>\n",
        "      <td>2014-11-26 20:00:00</td>\n",
        "    </tr>\n",
        "    <tr>\n",
        "      <th>9187528 </th>\n",
        "      <td> 99512554</td>\n",
        "      <td> 294358365</td>\n",
        "      <td> 3</td>\n",
        "      <td> 94gn6ne</td>\n",
        "      <td>  3660</td>\n",
        "      <td>2014-11-26 20:00:00</td>\n",
        "    </tr>\n",
        "    <tr>\n",
        "      <th>11797692</th>\n",
        "      <td> 99512554</td>\n",
        "      <td> 199562415</td>\n",
        "      <td> 3</td>\n",
        "      <td> 94gn6na</td>\n",
        "      <td> 12569</td>\n",
        "      <td>2014-11-25 21:00:00</td>\n",
        "    </tr>\n",
        "    <tr>\n",
        "      <th>11797699</th>\n",
        "      <td> 99512554</td>\n",
        "      <td> 199562415</td>\n",
        "      <td> 3</td>\n",
        "      <td> 94gn62f</td>\n",
        "      <td> 12569</td>\n",
        "      <td>2014-11-29 21:00:00</td>\n",
        "    </tr>\n",
        "    <tr>\n",
        "      <th>11797853</th>\n",
        "      <td> 99512554</td>\n",
        "      <td> 188909436</td>\n",
        "      <td> 3</td>\n",
        "      <td> 94gn62n</td>\n",
        "      <td> 10412</td>\n",
        "      <td>2014-11-26 20:00:00</td>\n",
        "    </tr>\n",
        "  </tbody>\n",
        "</table>\n",
        "<p>8 rows \u00d7 6 columns</p>\n",
        "</div>"
       ],
       "metadata": {},
       "output_type": "pyout",
       "prompt_number": 230,
       "text": [
        "           user_id    item_id  behavior_type user_geohash  item_category  \\\n",
        "0         99512554   37320317              3      94gn6nd           9232   \n",
        "3681524   99512554  268336370              3      94gn62m           8179   \n",
        "3681545   99512554  383906299              3      94gn6na           5273   \n",
        "3681551   99512554   84390158              3      94gn6no           5273   \n",
        "9187528   99512554  294358365              3      94gn6ne           3660   \n",
        "11797692  99512554  199562415              3      94gn6na          12569   \n",
        "11797699  99512554  199562415              3      94gn62f          12569   \n",
        "11797853  99512554  188909436              3      94gn62n          10412   \n",
        "\n",
        "                        time  \n",
        "0        2014-11-26 20:00:00  \n",
        "3681524  2014-11-26 20:00:00  \n",
        "3681545  2014-11-26 20:00:00  \n",
        "3681551  2014-11-26 20:00:00  \n",
        "9187528  2014-11-26 20:00:00  \n",
        "11797692 2014-11-25 21:00:00  \n",
        "11797699 2014-11-29 21:00:00  \n",
        "11797853 2014-11-26 20:00:00  \n",
        "\n",
        "[8 rows x 6 columns]"
       ]
      }
     ],
     "prompt_number": 230
    },
    {
     "cell_type": "code",
     "collapsed": false,
     "input": [
      "0.00604230 * 9590 / 0.12147505"
     ],
     "language": "python",
     "metadata": {},
     "outputs": [
      {
       "metadata": {},
       "output_type": "pyout",
       "prompt_number": 236,
       "text": [
        "477.0169429854114"
       ]
      }
     ],
     "prompt_number": 236
    },
    {
     "cell_type": "code",
     "collapsed": false,
     "input": [
      "10049*0.0296/0.0954"
     ],
     "language": "python",
     "metadata": {},
     "outputs": [
      {
       "metadata": {},
       "output_type": "pyout",
       "prompt_number": 235,
       "text": [
        "3117.9287211740043"
       ]
      }
     ],
     "prompt_number": 235
    },
    {
     "cell_type": "code",
     "collapsed": false,
     "input": [],
     "language": "python",
     "metadata": {},
     "outputs": []
    }
   ],
   "metadata": {}
  }
 ]
}