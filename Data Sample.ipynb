{
 "cells": [
  {
   "cell_type": "code",
   "execution_count": 1,
   "metadata": {
    "collapsed": false
   },
   "outputs": [],
   "source": [
    "import os\n",
    "import pandas as pd\n",
    "import numpy as np\n",
    "import matplotlib.pyplot as plt\n",
    "%matplotlib inline\n",
    "import random"
   ]
  },
  {
   "cell_type": "code",
   "execution_count": 5,
   "metadata": {
    "collapsed": false
   },
   "outputs": [
    {
     "name": "stdout",
     "output_type": "stream",
     "text": [
      "\n"
     ]
    }
   ],
   "source": [
    "import tools\n",
    "tools.FOLDER_ROOT = '/home/renj/Data/beijing 2008'"
   ]
  },
  {
   "cell_type": "code",
   "execution_count": 6,
   "metadata": {
    "collapsed": false
   },
   "outputs": [],
   "source": [
    "data = pd.DataFrame()\n",
    "for fd in ['01', '02', '03','04','05','06','07']:\n",
    "    d = tools.read_data('2nd_folder', folder = fd, n_rows = None)\n",
    "    data = pd.concat([data, d])"
   ]
  },
  {
   "cell_type": "code",
   "execution_count": 7,
   "metadata": {
    "collapsed": false
   },
   "outputs": [
    {
     "name": "stdout",
     "output_type": "stream",
     "text": [
      "10206809 2891\n"
     ]
    }
   ],
   "source": [
    "print len(data), len(data.id.unique())"
   ]
  },
  {
   "cell_type": "code",
   "execution_count": 8,
   "metadata": {
    "collapsed": false
   },
   "outputs": [
    {
     "name": "stdout",
     "output_type": "stream",
     "text": [
      "10206809 2891\n"
     ]
    }
   ],
   "source": [
    "sample_data = data\n",
    "print len(sample_data), len(sample_data.id.unique())"
   ]
  },
  {
   "cell_type": "code",
   "execution_count": 9,
   "metadata": {
    "collapsed": false
   },
   "outputs": [],
   "source": [
    "sample_data.to_pickle('./data/sample_data.pickle')"
   ]
  },
  {
   "cell_type": "code",
   "execution_count": 10,
   "metadata": {
    "collapsed": false
   },
   "outputs": [],
   "source": [
    "sample_data = pd.read_pickle('./data/sample_data.pickle')"
   ]
  },
  {
   "cell_type": "code",
   "execution_count": 11,
   "metadata": {
    "collapsed": true
   },
   "outputs": [],
   "source": [
    "def haversine(lon1, lat1, lon2, lat2):\n",
    "    from math import radians, cos, sin, asin, sqrt\n",
    "    \"\"\"\n",
    "    Calculate the great circle distance between two points \n",
    "    on the earth (specified in decimal degrees)\n",
    "    http://boulter.com/gps/distance/\n",
    "    \"\"\"\n",
    "    # convert decimal degrees to radians \n",
    "    lon1, lat1, lon2, lat2 = map(radians, [lon1, lat1, lon2, lat2])\n",
    "    # haversine formula \n",
    "    dlon = lon2 - lon1 \n",
    "    dlat = lat2 - lat1 \n",
    "    a = sin(dlat/2)**2 + cos(lat1) * cos(lat2) * sin(dlon/2)**2\n",
    "    c = 2 * asin(sqrt(a)) \n",
    "    m = 6367000.0 * c\n",
    "    return m"
   ]
  },
  {
   "cell_type": "code",
   "execution_count": 12,
   "metadata": {
    "collapsed": false
   },
   "outputs": [],
   "source": [
    "def over_speed(d, max_speed):\n",
    "    delt_dist = map(lambda x: haversine(x[0], x[1], x[2], x[3]), zip(d.x[1:], d.y[1:], d.x[:-1], d.y[:-1]))\n",
    "    dt = pd.to_datetime(d.time)\n",
    "    s = map(lambda x: x.total_seconds(), np.subtract(dt[1:], dt[:-1]))\n",
    "    df = pd.DataFrame(zip(range(len(s)), s, delt_dist))\n",
    "    df['speed'] = np.divide(df[2], df[1])\n",
    "    df = df.fillna(0)\n",
    "    #df = df.drop(df[df.speed > max_speed].index)\n",
    "    #return df\n",
    "    idx = df[df.speed > max_speed].index+1\n",
    "    i = 0\n",
    "    drop_idx = []\n",
    "    while i < len(idx):\n",
    "        if i+1 >= len(idx) or idx[i+1]-idx[i] > 5:\n",
    "            drop_idx.append(idx[i])\n",
    "        else:\n",
    "            drop_idx += range(idx[i],idx[i+1])\n",
    "            i += 1\n",
    "        i += 1\n",
    "    return drop_idx"
   ]
  },
  {
   "cell_type": "code",
   "execution_count": 13,
   "metadata": {
    "collapsed": true
   },
   "outputs": [],
   "source": [
    "def speed(d):\n",
    "    delt_dist = map(lambda x: haversine(x[0], x[1], x[2], x[3]), zip(d.x[1:], d.y[1:], d.x[:-1], d.y[:-1]))\n",
    "    dt = pd.to_datetime(d.time)\n",
    "    s = map(lambda x: x.total_seconds(), np.subtract(dt[1:], dt[:-1]))\n",
    "    df = pd.DataFrame(zip(range(len(s)), s, delt_dist))\n",
    "    df['speed'] = np.divide(df[2], df[1])\n",
    "    df = df.fillna(0)\n",
    "    return df"
   ]
  },
  {
   "cell_type": "code",
   "execution_count": null,
   "metadata": {
    "collapsed": false
   },
   "outputs": [
    {
     "name": "stdout",
     "output_type": "stream",
     "text": [
      "0 6665\n",
      "1 7105\n",
      "2 8717\n",
      "3 7146\n",
      "4 6656\n",
      "5 9109\n",
      "6 1277\n",
      "7 6275\n",
      "8 5099\n",
      "9 2560\n",
      "10 2669\n",
      "11 3557\n",
      "12 8662\n",
      "13 366\n",
      "14 3015\n",
      "15 4798\n",
      "16 9754\n",
      "17 1131\n",
      "18 2237\n",
      "19 5075\n",
      "20 3579\n",
      "21 5860\n",
      "22 3781\n",
      "23 8179\n",
      "24 1509\n",
      "25 4867\n",
      "26 7173\n",
      "27 2313\n",
      "28 7922\n",
      "29 9539\n",
      "30 9468\n",
      "31 1838\n",
      "32 1741\n",
      "33 4396\n",
      "34 7056\n",
      "35 8474\n",
      "36 7382\n",
      "37 4265\n",
      "38 5444\n",
      "39 4819\n",
      "40 6818\n",
      "41 8654\n",
      "42 6810\n",
      "43 5856\n",
      "44 5478\n",
      "45 5854\n",
      "46 4115\n",
      "47 8525\n",
      "48 6790\n",
      "49 3872\n",
      "50 6211\n",
      "51 4578\n",
      "52 5071\n",
      "53 6358\n",
      "54 2910\n",
      "55 2884\n",
      "56 4461\n",
      "57 2172\n",
      "58 715\n",
      "59 9944\n",
      "60 9579\n",
      "61 9207\n",
      "62 7427\n",
      "63 6903\n",
      "64 5208\n",
      "65 8652\n",
      "66 1563\n",
      "67 5414\n",
      "68 6607\n",
      "69 919\n",
      "70 3953\n",
      "71 9948\n",
      "72 650\n",
      "73 8291\n",
      "74 9945\n",
      "75 4990\n",
      "76 7971\n",
      "77 950\n",
      "78 4112\n",
      "79 9580\n",
      "80 750\n",
      "81 2780\n",
      "82 4854\n",
      "83 3799\n",
      "84 8657\n",
      "85 5894\n",
      "86 1757\n",
      "87 2193\n",
      "88 9946\n",
      "89 676\n",
      "90 8001\n",
      "91 9415\n",
      "92 6942\n",
      "93 8463\n",
      "94 5316\n",
      "95 8860\n",
      "96 8801\n",
      "97 534\n",
      "98 9952\n",
      "99 1374\n",
      "100 9949\n",
      "101 7630\n",
      "102 1775\n",
      "103 6814\n",
      "104 9950\n",
      "105 5867\n",
      "106 3895\n",
      "107 2154\n",
      "108 7919\n",
      "109 4863\n",
      "110 9578\n",
      "111 7195\n",
      "112 4177\n",
      "113 1827\n",
      "114 8126\n",
      "115 5460\n",
      "116 7653\n",
      "117 7430\n",
      "118 8554\n",
      "119 5987\n",
      "120 8789\n",
      "121 7883\n",
      "122 2486\n",
      "123 6464\n",
      "124 8260\n",
      "125 1059\n",
      "126 4401\n",
      "127 3961\n",
      "128 5072\n",
      "129 6128\n",
      "130 1466\n",
      "131 8838\n",
      "132 6166\n",
      "133 2318\n",
      "134 1938\n",
      "135 8696\n",
      "136 9206\n",
      "137 9138\n",
      "138 4528\n",
      "139 6812\n",
      "140 675\n",
      "141 5895\n",
      "142 7396\n",
      "143 6831\n",
      "144 9232\n",
      "145 1409\n",
      "146 5070\n",
      "147 4549\n",
      "148 5967\n",
      "149 3801\n",
      "150 3964\n",
      "151 4580\n",
      "152 4638\n",
      "153 5616\n",
      "154 9424\n",
      "155 6989\n",
      "156 5964\n",
      "157 4393\n",
      "158 2127\n",
      "159 7842\n",
      "160 3644\n",
      "161 1762\n",
      "162 3918\n",
      "163 4480\n",
      "164 3944\n",
      "165 4980\n",
      "166 1825\n",
      "167 7199\n",
      "168 1375\n",
      "169 2907\n",
      "170 2881\n",
      "171 3772\n",
      "172 4830\n",
      "173 1948\n",
      "174 1935\n",
      "175 4882\n",
      "176 2146\n",
      "177 1353\n",
      "178 10012\n",
      "179 1370\n",
      "180 3942\n",
      "181 9556\n",
      "182 1451\n",
      "183 3482\n",
      "184 4851\n",
      "185 28\n",
      "186 6355\n",
      "187 4590\n",
      "188 4730\n",
      "189 4672\n",
      "190 8526\n",
      "191 5407\n",
      "192 1773\n",
      "193 1796\n",
      "194 2909\n",
      "195 4483\n",
      "196 4346\n",
      "197 3954\n",
      "198 1745\n",
      "199 2544\n",
      "200 9158\n",
      "201 9288\n",
      "202 8731\n",
      "203 8800\n",
      "204 3939\n",
      "205 9312\n",
      "206 1378\n",
      "207 7674\n",
      "208 7137\n",
      "209 9161\n",
      "210 5970\n",
      "211 7806\n",
      "212 875\n",
      "213 6945\n",
      "214 2240\n",
      "215 8749\n",
      "216 4414\n",
      "217 7118\n",
      "218 6649\n",
      "219 7378\n",
      "220 3945\n",
      "221 9548\n",
      "222 1557\n",
      "223 5601\n",
      "224 3512\n",
      "225 9511\n",
      "226 6361\n",
      "227 5605\n",
      "228 7623\n",
      "229 6611\n",
      "230 2353\n",
      "231 4927\n",
      "232 6652\n",
      "233 1336\n",
      "234 9368\n",
      "235 8517\n",
      "236 5368\n",
      "237 842\n",
      "238 6899\n",
      "239 7790\n",
      "240 3142\n",
      "241 4839\n",
      "242 8063\n",
      "243 5921\n",
      "244 8511\n",
      "245 2450\n",
      "246 839\n",
      "247 1439\n",
      "248 4808\n",
      "249 1570\n",
      "250 1747\n",
      "251 4372\n",
      "252 2605\n",
      "253 8094\n",
      "254 1971\n",
      "255 10178\n",
      "256 3965\n",
      "257 3511\n",
      "258 1847\n",
      "259 9537\n",
      "260 2454\n",
      "261 8736\n",
      "262 7785\n",
      "263 5432\n",
      "264 3622\n",
      "265 7205\n",
      "266 4593\n",
      "267 5896\n",
      "268 6821\n",
      "269 1770\n",
      "270 5332\n",
      "271 4969\n",
      "272 1513\n",
      "273 8833\n",
      "274 6785\n",
      "275 9350\n",
      "276 1738\n",
      "277 7008\n",
      "278 8065\n",
      "279 7193\n",
      "280 6569\n",
      "281 4500\n",
      "282 7416\n",
      "283 8409\n",
      "284 4619\n",
      "285 490\n",
      "286 5409\n",
      "287 9079\n",
      "288 4607\n",
      "289 7018\n",
      "290 1794\n",
      "291 1950\n",
      "292 34\n",
      "293 6362\n",
      "294 877\n",
      "295 1965\n",
      "296 35\n",
      "297 4889\n",
      "298 8019\n",
      "299 8863\n",
      "300 1566\n",
      "301 7624\n",
      "302 1830\n",
      "303 3948\n",
      "304 5038\n",
      "305 4582\n",
      "306 2153\n",
      "307 4862\n",
      "308 7993\n",
      "309 7311\n",
      "310 8477\n",
      "311 10201\n",
      "312 2894\n",
      "313 4962\n",
      "314 6969\n",
      "315 3899\n",
      "316 1309\n",
      "317 8711\n",
      "318 1768\n",
      "319 4615\n",
      "320 9559\n",
      "321 9331\n",
      "322 2873\n",
      "323 7376\n",
      "324 995\n",
      "325 1511\n",
      "326 131\n",
      "327 8095\n",
      "328 3915\n",
      "329 7840\n",
      "330 4745\n",
      "331 3938\n",
      "332 3260\n",
      "333 8814\n",
      "334 883\n",
      "335 2126\n",
      "336 4415\n",
      "337 6876\n",
      "338 8428\n",
      "339 2487\n",
      "340 1360\n",
      "341 4398\n",
      "342 4397\n",
      "343 6992\n",
      "344 3993\n",
      "345 903\n",
      "346 4894\n",
      "347 1789\n",
      "348 10011\n",
      "349 3866\n",
      "350 818\n",
      "351 7133\n",
      "352 7428\n",
      "353 4443\n",
      "354 8670\n",
      "355 3955\n",
      "356 6274\n",
      "357 5866\n",
      "358 10\n",
      "359 1580\n",
      "360 8462\n",
      "361 4335\n",
      "362 7284\n",
      "363 8473\n",
      "364 5243\n",
      "365 8728\n",
      "366 7469\n",
      "367 2331\n",
      "368 7220\n",
      "369 1958\n",
      "370 8028\n",
      "371 4699\n",
      "372 6940\n",
      "373 10322\n",
      "374 9187\n",
      "375 2516\n",
      "376 7139\n",
      "377 7397\n",
      "378 9939\n",
      "379 9205\n",
      "380 3300\n",
      "381 6846\n",
      "382 16\n",
      "383 4716\n",
      "384 6346\n",
      "385 8413\n",
      "386 5594\n",
      "387 2226\n",
      "388 6879\n",
      "389 9500\n",
      "390 7834\n",
      "391 9174\n",
      "392 9200\n",
      "393 9340\n",
      "394 8775\n",
      "395 7956\n",
      "396 4614\n",
      "397 1737\n",
      "398 2898\n",
      "399 2927\n",
      "400 7485\n",
      "401 1832\n",
      "402 10159\n",
      "403 6905\n",
      "404 1202\n",
      "405 2924\n",
      "406 2926\n",
      "407 6834\n",
      "408 6244\n",
      "409 2885\n",
      "410 6623\n",
      "411 1753\n",
      "412 10252\n",
      "413 6681\n",
      "414 1356\n",
      "415 9213\n",
      "416 5416\n",
      "417 4060\n",
      "418 2195\n",
      "419 10169\n",
      "420 5067\n",
      "421 4779\n",
      "422 4236\n",
      "423 6659\n",
      "424 5360\n",
      "425"
     ]
    }
   ],
   "source": [
    "i = 0\n",
    "MAX_SPEED = 60\n",
    "fined_data = pd.DataFrame()\n",
    "for id in sample_data.id.unique():\n",
    "    print i, id\n",
    "    d = sample_data[sample_data.id == id]\n",
    "    if len(d) <= 1: continue\n",
    "    drop_idx = over_speed(d, MAX_SPEED)\n",
    "    while len(drop_idx) != 0:\n",
    "        d = d.drop(drop_idx)\n",
    "        d.index = range(len(d))\n",
    "        drop_idx = over_speed(d, MAX_SPEED)\n",
    "    assert len(drop_idx) == 0\n",
    "    fined_data = pd.concat([fined_data, d])\n",
    "    i += 1"
   ]
  },
  {
   "cell_type": "code",
   "execution_count": null,
   "metadata": {
    "collapsed": false
   },
   "outputs": [],
   "source": [
    "len(fined_data)"
   ]
  },
  {
   "cell_type": "code",
   "execution_count": null,
   "metadata": {
    "collapsed": false
   },
   "outputs": [],
   "source": [
    "len(fined_data.id.unique())"
   ]
  },
  {
   "cell_type": "code",
   "execution_count": null,
   "metadata": {
    "collapsed": false
   },
   "outputs": [],
   "source": [
    "len(fined_data)"
   ]
  },
  {
   "cell_type": "code",
   "execution_count": null,
   "metadata": {
    "collapsed": false
   },
   "outputs": [],
   "source": [
    "fined_data.to_pickle('./data/fined_data.pickle')"
   ]
  },
  {
   "cell_type": "code",
   "execution_count": 2,
   "metadata": {
    "collapsed": true
   },
   "outputs": [],
   "source": [
    "fined_data = pd.read_pickle('./data/fined_data.pickle')"
   ]
  },
  {
   "cell_type": "code",
   "execution_count": 3,
   "metadata": {
    "collapsed": false
   },
   "outputs": [],
   "source": [
    "d = fined_data.copy()"
   ]
  },
  {
   "cell_type": "code",
   "execution_count": 4,
   "metadata": {
    "collapsed": false
   },
   "outputs": [],
   "source": [
    "d.index = range(1, len(d)+1)\n",
    "d.time = pd.to_datetime(d.time)\n",
    "delta_time = np.subtract(d.time[1:], d.time[:-1])\n",
    "delta_id = np.subtract(d.id[1:], d.id[:-1])\n",
    "split_id = delta_id[delta_id != 0].index\n",
    "split_time = delta_time[delta_time > np.timedelta64(10,'m')].index\n",
    "split_all = pd.Series([1] + list(split_id) + list(split_time) + [len(d)]).unique()\n",
    "split_all.sort()\n",
    "window = np.subtract(split_all[1:], split_all[:-1])\n",
    "window[-1] += 1\n",
    "l_id = []\n",
    "idx = 1\n",
    "for i in window:\n",
    "    l_id += [idx] * i\n",
    "    idx += 1\n",
    "assert len(d) == sum(window)\n",
    "d['tid'] = l_id"
   ]
  },
  {
   "cell_type": "code",
   "execution_count": 5,
   "metadata": {
    "collapsed": false
   },
   "outputs": [
    {
     "data": {
      "text/plain": [
       "122060"
      ]
     },
     "execution_count": 5,
     "metadata": {},
     "output_type": "execute_result"
    }
   ],
   "source": [
    "d.tid.max()"
   ]
  },
  {
   "cell_type": "code",
   "execution_count": 7,
   "metadata": {
    "collapsed": false
   },
   "outputs": [],
   "source": [
    "a = d.id.groupby(d.tid).count()"
   ]
  },
  {
   "cell_type": "code",
   "execution_count": 8,
   "metadata": {
    "collapsed": false
   },
   "outputs": [],
   "source": [
    "a.sort()"
   ]
  },
  {
   "cell_type": "code",
   "execution_count": 9,
   "metadata": {
    "collapsed": false
   },
   "outputs": [
    {
     "data": {
      "text/plain": [
       "count    122060.000000\n",
       "mean         82.547772\n",
       "std         592.787708\n",
       "min           1.000000\n",
       "25%           6.000000\n",
       "50%          24.000000\n",
       "75%          71.000000\n",
       "max       50008.000000\n",
       "Name: id, dtype: float64"
      ]
     },
     "execution_count": 9,
     "metadata": {},
     "output_type": "execute_result"
    }
   ],
   "source": [
    "a.describe()"
   ]
  },
  {
   "cell_type": "code",
   "execution_count": 10,
   "metadata": {
    "collapsed": false
   },
   "outputs": [
    {
     "data": {
      "text/plain": [
       "count    50000.000000\n",
       "mean       185.010220\n",
       "std        916.471848\n",
       "min         35.000000\n",
       "25%         54.000000\n",
       "50%         89.000000\n",
       "75%        163.000000\n",
       "max      50008.000000\n",
       "Name: id, dtype: float64"
      ]
     },
     "execution_count": 10,
     "metadata": {},
     "output_type": "execute_result"
    }
   ],
   "source": [
    "a[-50000:].describe()"
   ]
  },
  {
   "cell_type": "code",
   "execution_count": 11,
   "metadata": {
    "collapsed": false
   },
   "outputs": [],
   "source": [
    "sample_tids = list(a.index)"
   ]
  },
  {
   "cell_type": "code",
   "execution_count": 12,
   "metadata": {
    "collapsed": false
   },
   "outputs": [],
   "source": [
    "d.index = d.tid\n",
    "d = d.ix[sample_tids]"
   ]
  },
  {
   "cell_type": "code",
   "execution_count": 13,
   "metadata": {
    "collapsed": false
   },
   "outputs": [
    {
     "name": "stdout",
     "output_type": "stream",
     "text": [
      "10075781\n",
      "10075781\n"
     ]
    }
   ],
   "source": [
    "print len(d)\n",
    "print len(fined_data)"
   ]
  },
  {
   "cell_type": "code",
   "execution_count": 14,
   "metadata": {
    "collapsed": false
   },
   "outputs": [],
   "source": [
    "tids = d.index.unique()\n"
   ]
  },
  {
   "cell_type": "code",
   "execution_count": 15,
   "metadata": {
    "collapsed": false
   },
   "outputs": [
    {
     "name": "stdout",
     "output_type": "stream",
     "text": [
      "count    80000.000000\n",
      "mean        85.926350\n",
      "std        669.389744\n",
      "min          1.000000\n",
      "25%          6.000000\n",
      "50%         24.000000\n",
      "75%         71.000000\n",
      "max      50008.000000\n",
      "Name: id, dtype: float64\n",
      "count    60000.000000\n",
      "mean        82.647983\n",
      "std        599.038514\n",
      "min          1.000000\n",
      "25%          6.000000\n",
      "50%         23.000000\n",
      "75%         70.000000\n",
      "max      50008.000000\n",
      "Name: id, dtype: float64\n",
      "count    40000.000000\n",
      "mean        79.594950\n",
      "std        450.611897\n",
      "min          1.000000\n",
      "25%          6.000000\n",
      "50%         24.000000\n",
      "75%         70.000000\n",
      "max      28555.000000\n",
      "Name: id, dtype: float64\n",
      "count    20000.000000\n",
      "mean        83.842350\n",
      "std        566.428589\n",
      "min          1.000000\n",
      "25%          6.000000\n",
      "50%         24.000000\n",
      "75%         74.000000\n",
      "max      34060.000000\n",
      "Name: id, dtype: float64\n",
      "count    10000.000000\n",
      "mean        84.433000\n",
      "std        648.036484\n",
      "min          1.000000\n",
      "25%          6.000000\n",
      "50%         24.000000\n",
      "75%         71.000000\n",
      "max      33139.000000\n",
      "Name: id, dtype: float64\n"
     ]
    }
   ],
   "source": [
    "for num in [80000,60000,40000,20000,10000]:\n",
    "    sample_tids = random.sample(tids, num)\n",
    "    sample = d.ix[sample_tids].copy()\n",
    "    shift = dict(zip(sample_tids, range(1, len(sample_tids)+1)))\n",
    "    new_index = []\n",
    "    for i in sample.index:\n",
    "        new_index.append(shift[i])\n",
    "    sample.index = new_index\n",
    "    sample.tid = sample.index\n",
    "    a = sample.id.groupby(sample.tid).count()\n",
    "    print a.describe()\n",
    "    sample.to_pickle('./data/Data_short_'+str(num)+'.pickle')"
   ]
  },
  {
   "cell_type": "code",
   "execution_count": 37,
   "metadata": {
    "collapsed": false
   },
   "outputs": [],
   "source": [
    "\"\"\"\n",
    "generate long trajectory data\n",
    "\"\"\"\n",
    "for num in [100, 500, 1000, 5000, 10000]:\n",
    "    sample_tids = list(a[(-1*num):].index)\n",
    "    sample = d.ix[sample_tids].copy()\n",
    "    shift = dict(zip(sample_tids, range(1, len(sample_tids)+1)))\n",
    "    new_index = []\n",
    "    for i in sample.index:\n",
    "        new_index.append(shift[i])\n",
    "    sample.index = new_index\n",
    "    sample.tid = sample.index\n",
    "    sample.to_pickle('./data/Data_long_'+str(num)+'.pickle')"
   ]
  },
  {
   "cell_type": "code",
   "execution_count": 44,
   "metadata": {
    "collapsed": false
   },
   "outputs": [
    {
     "name": "stdout",
     "output_type": "stream",
     "text": [
      "count     100.000000\n",
      "mean      148.110000\n",
      "std       194.596599\n",
      "min        35.000000\n",
      "25%        57.750000\n",
      "50%       106.000000\n",
      "75%       186.000000\n",
      "max      1840.000000\n",
      "Name: id, dtype: float64\n",
      "count      500.000000\n",
      "mean       181.894000\n",
      "std        817.926585\n",
      "min         35.000000\n",
      "25%         56.750000\n",
      "50%         92.000000\n",
      "75%        157.250000\n",
      "max      15339.000000\n",
      "Name: id, dtype: float64\n",
      "count     1000.000000\n",
      "mean       228.409000\n",
      "std       1392.534787\n",
      "min         35.000000\n",
      "25%         55.000000\n",
      "50%         88.500000\n",
      "75%        151.000000\n",
      "max      34060.000000\n",
      "Name: id, dtype: float64\n",
      "count     5000.000000\n",
      "mean       185.318800\n",
      "std        833.467405\n",
      "min         35.000000\n",
      "25%         54.000000\n",
      "50%         90.000000\n",
      "75%        162.000000\n",
      "max      32450.000000\n",
      "Name: id, dtype: float64\n",
      "count    10000.000000\n",
      "mean       189.692300\n",
      "std       1107.428165\n",
      "min         35.000000\n",
      "25%         54.000000\n",
      "50%         89.000000\n",
      "75%        161.000000\n",
      "max      49095.000000\n",
      "Name: id, dtype: float64\n"
     ]
    }
   ],
   "source": [
    "tids = list(a[-50000:].index)\n",
    "for num in [100, 500, 1000, 5000, 10000]:\n",
    "    sample_tids = random.sample(tids, num)\n",
    "    sample = d.ix[sample_tids].copy()\n",
    "    shift = dict(zip(sample_tids, range(1, len(sample_tids)+1)))\n",
    "    new_index = []\n",
    "    for i in sample.index:\n",
    "        new_index.append(shift[i])\n",
    "    sample.index = new_index\n",
    "    sample.tid = sample.index\n",
    "    a = sample.id.groupby(sample.tid).count()\n",
    "    print a.describe()\n",
    "    sample.to_pickle('./data/Data_middle_'+str(num)+'.pickle')"
   ]
  },
  {
   "cell_type": "code",
   "execution_count": 449,
   "metadata": {
    "collapsed": true
   },
   "outputs": [],
   "source": []
  },
  {
   "cell_type": "code",
   "execution_count": null,
   "metadata": {
    "collapsed": true
   },
   "outputs": [],
   "source": []
  },
  {
   "cell_type": "code",
   "execution_count": 504,
   "metadata": {
    "collapsed": false
   },
   "outputs": [
    {
     "data": {
      "text/plain": [
       "15601"
      ]
     },
     "execution_count": 504,
     "metadata": {},
     "output_type": "execute_result"
    }
   ],
   "source": [
    "d = pd.read_pickle('./data/Data_100.pickle')\n",
    "len(d)"
   ]
  },
  {
   "cell_type": "code",
   "execution_count": 482,
   "metadata": {
    "collapsed": true
   },
   "outputs": [],
   "source": [
    "sparse = dict()"
   ]
  },
  {
   "cell_type": "code",
   "execution_count": 484,
   "metadata": {
    "collapsed": false
   },
   "outputs": [
    {
     "data": {
      "text/html": [
       "<div style=\"max-height:1000px;max-width:1500px;overflow:auto;\">\n",
       "<table border=\"1\" class=\"dataframe\">\n",
       "  <thead>\n",
       "    <tr style=\"text-align: right;\">\n",
       "      <th></th>\n",
       "      <th>id</th>\n",
       "      <th>time</th>\n",
       "      <th>x</th>\n",
       "      <th>y</th>\n",
       "      <th>tid</th>\n",
       "    </tr>\n",
       "  </thead>\n",
       "  <tbody>\n",
       "    <tr>\n",
       "      <th>1</th>\n",
       "      <td> 2911</td>\n",
       "      <td>2008-02-05 11:11:49</td>\n",
       "      <td> 116.28820</td>\n",
       "      <td> 39.83573</td>\n",
       "      <td> 1</td>\n",
       "    </tr>\n",
       "    <tr>\n",
       "      <th>1</th>\n",
       "      <td> 2911</td>\n",
       "      <td>2008-02-05 11:12:51</td>\n",
       "      <td> 116.28819</td>\n",
       "      <td> 39.83581</td>\n",
       "      <td> 1</td>\n",
       "    </tr>\n",
       "    <tr>\n",
       "      <th>1</th>\n",
       "      <td> 2911</td>\n",
       "      <td>2008-02-05 11:14:09</td>\n",
       "      <td> 116.28819</td>\n",
       "      <td> 39.83581</td>\n",
       "      <td> 1</td>\n",
       "    </tr>\n",
       "    <tr>\n",
       "      <th>1</th>\n",
       "      <td> 2911</td>\n",
       "      <td>2008-02-05 11:15:30</td>\n",
       "      <td> 116.28819</td>\n",
       "      <td> 39.83581</td>\n",
       "      <td> 1</td>\n",
       "    </tr>\n",
       "    <tr>\n",
       "      <th>1</th>\n",
       "      <td> 2911</td>\n",
       "      <td>2008-02-05 11:16:53</td>\n",
       "      <td> 116.28647</td>\n",
       "      <td> 39.83556</td>\n",
       "      <td> 1</td>\n",
       "    </tr>\n",
       "  </tbody>\n",
       "</table>\n",
       "</div>"
      ],
      "text/plain": [
       "     id                time          x         y  tid\n",
       "1  2911 2008-02-05 11:11:49  116.28820  39.83573    1\n",
       "1  2911 2008-02-05 11:12:51  116.28819  39.83581    1\n",
       "1  2911 2008-02-05 11:14:09  116.28819  39.83581    1\n",
       "1  2911 2008-02-05 11:15:30  116.28819  39.83581    1\n",
       "1  2911 2008-02-05 11:16:53  116.28647  39.83556    1"
      ]
     },
     "execution_count": 484,
     "metadata": {},
     "output_type": "execute_result"
    }
   ],
   "source": [
    "d.head()"
   ]
  },
  {
   "cell_type": "code",
   "execution_count": 486,
   "metadata": {
    "collapsed": false
   },
   "outputs": [
    {
     "name": "stdout",
     "output_type": "stream",
     "text": [
      "116.05916 117.82969 39.58215 40.89593\n"
     ]
    }
   ],
   "source": [
    "print d.x.min(), d.x.max(), d.y.min(), d.y.max()"
   ]
  },
  {
   "cell_type": "code",
   "execution_count": 491,
   "metadata": {
    "collapsed": false
   },
   "outputs": [
    {
     "data": {
      "text/plain": [
       "1770"
      ]
     },
     "execution_count": 491,
     "metadata": {},
     "output_type": "execute_result"
    }
   ],
   "source": [
    "len(range( int(d.x.min()*1000), int(d.x.max()*1000)))"
   ]
  },
  {
   "cell_type": "code",
   "execution_count": 490,
   "metadata": {
    "collapsed": false
   },
   "outputs": [
    {
     "data": {
      "text/plain": [
       "1313"
      ]
     },
     "execution_count": 490,
     "metadata": {},
     "output_type": "execute_result"
    }
   ],
   "source": [
    "len(range( int(d.y.min()*1000), int(d.y.max()*1000)))"
   ]
  },
  {
   "cell_type": "code",
   "execution_count": 492,
   "metadata": {
    "collapsed": false
   },
   "outputs": [
    {
     "data": {
      "text/plain": [
       "37"
      ]
     },
     "execution_count": 492,
     "metadata": {},
     "output_type": "execute_result"
    }
   ],
   "source": [
    "len(d[d.tid == 1])"
   ]
  },
  {
   "cell_type": "code",
   "execution_count": 511,
   "metadata": {
    "collapsed": false
   },
   "outputs": [],
   "source": [
    "s = 'var lines = ['\n",
    "for tid in d.tid.unique():\n",
    "    s += '[\\n'\n",
    "    for p in d[d.tid == tid].values:\n",
    "        s += 'new BMap.Point(%f,%f),\\n' % (p[2], p[3])\n",
    "    s += '],\\n'\n",
    "s += ']'\n",
    "print s"
   ]
  },
  {
   "cell_type": "code",
   "execution_count": 506,
   "metadata": {
    "collapsed": true
   },
   "outputs": [],
   "source": [
    "with open('./data/data.js','w') as f:\n",
    "    f.write(s)\n",
    "    "
   ]
  },
  {
   "cell_type": "code",
   "execution_count": 515,
   "metadata": {
    "collapsed": false
   },
   "outputs": [],
   "source": [
    "s = 'var points = ['\n",
    "for p in d.values:\n",
    "    s += '{\"lng\":%f,\"lat\":%f,\"count\":1},\\n' % (p[2], p[3])\n",
    "s += '];'\n",
    "\n",
    "with open('./data/data_points.js','w') as f:\n",
    "    f.write(s)\n"
   ]
  },
  {
   "cell_type": "code",
   "execution_count": 514,
   "metadata": {
    "collapsed": false
   },
   "outputs": [
    {
     "data": {
      "text/plain": [
       "'var points = [{\"lng\":116.484330,\"lat\":39.904880,\"count\":1},{\"lng\":116.484330,\"lat\":39.904880,\"count\":1},{\"lng\":116.522790,\"lat\":39.908570,\"count\":1},{\"lng\":116.514950,\"lat\":39.922070,\"count\":1},{\"lng\":116.530840,\"lat\":39.938730,\"count\":1},{\"lng\":116.523870,\"lat\":39.936390,\"count\":1},{\"lng\":116.520330,\"lat\":39.924670,\"count\":1},{\"lng\":116.520290,\"lat\":39.924650,\"count\":1},{\"lng\":116.520260,\"lat\":39.924660,\"count\":1},{\"lng\":116.520240,\"lat\":39.924650,\"count\":1},{\"lng\":116.520070,\"lat\":39.924660,\"count\":1},{\"lng\":116.519870,\"lat\":39.924660,\"count\":1},{\"lng\":116.483600,\"lat\":39.899420,\"count\":1},{\"lng\":116.500690,\"lat\":39.869350,\"count\":1},{\"lng\":116.494300,\"lat\":39.871480,\"count\":1},{\"lng\":116.484000,\"lat\":39.888250,\"count\":1},{\"lng\":116.483730,\"lat\":39.896380,\"count\":1},{\"lng\":116.471680,\"lat\":39.904710,\"count\":1},{\"lng\":116.476370,\"lat\":39.907290,\"count\":1},{\"lng\":116.471650,\"lat\":39.907270,\"count\":1},{\"lng\":116.465320,\"lat\":39.912290,\"count\":1},{\"lng\":116.455580,\"lat\":39.945800,\"count\":1},{\"lng\":116.436240,\"lat\":39.958360,\"count\":1},{\"lng\":116.435020,\"lat\":39.955120,\"count\":1},{\"lng\":116.426470,\"lat\":39.958170,\"count\":1},{\"lng\":116.381490,\"lat\":39.947640,\"count\":1},{\"lng\":116.381490,\"lat\":39.947640,\"count\":1},{\"lng\":116.373180,\"lat\":39.936890,\"count\":1},{\"lng\":116.373600,\"lat\":39.930570,\"count\":1},{\"lng\":116.396400,\"lat\":39.932020,\"count\":1},{\"lng\":116.420690,\"lat\":39.932240,\"count\":1},{\"lng\":116.430510,\"lat\":39.932160,\"count\":1},{\"lng\":116.449030,\"lat\":39.932340,\"count\":1},{\"lng\":116.455280,\"lat\":39.895940,\"count\":1},{\"lng\":116.455640,\"lat\":39.907330,\"count\":1},{\"lng\":116.460820,\"lat\":39.931500,\"count\":1},{\"lng\":116.483170,\"lat\":39.932290,\"count\":1},{\"lng\":116.488300,\"lat\":39.919630,\"count\":1},{\"lng\":116.477680,\"lat\":39.914340,\"count\":1},{\"lng\":116.474610,\"lat\":39.924910,\"count\":1},{\"lng\":116.460050,\"lat\":39.930660,\"count\":1},{\"lng\":116.456370,\"lat\":39.932190,\"count\":1},{\"lng\":116.456340,\"lat\":39.932200,\"count\":1},{\"lng\":116.462650,\"lat\":39.932310,\"count\":1},{\"lng\":116.483140,\"lat\":39.932340,\"count\":1},{\"lng\":116.505620,\"lat\":39.937520,\"count\":1},{\"lng\":116.527500,\"lat\":39.936570,\"count\":1},{\"lng\":116.527540,\"lat\":39.936580,\"count\":1},{\"lng\":116.541090,\"lat\":39.940540,\"count\":1},{\"lng\":116.551730,\"lat\":39.969820,\"count\":1},{\"lng\":116.546450,\"lat\":39.969630,\"count\":1},{\"lng\":116.541270,\"lat\":39.951640,\"count\":1},{\"lng\":116.541270,\"lat\":39.951640,\"count\":1},{\"lng\":116.527500,\"lat\":39.936540,\"count\":1},{\"lng\":116.527500,\"lat\":39.936540,\"count\":1},{\"lng\":116.527520,\"lat\":39.936510,\"count\":1},{\"lng\":116.527520,\"lat\":39.936510,\"count\":1},{\"lng\":116.527530,\"lat\":39.936540,\"count\":1},{\"lng\":116.527510,\"lat\":39.936500,\"count\":1},{\"lng\":116.527520,\"lat\":39.936490,\"count\":1},{\"lng\":116.527500,\"lat\":39.936540,\"count\":1},{\"lng\":116.527520,\"lat\":39.936520,\"count\":1},{\"lng\":116.527470,\"lat\":39.936600,\"count\":1},{\"lng\":116.527500,\"lat\":39.936600,\"count\":1},{\"lng\":116.527540,\"lat\":39.936540,\"count\":1},{\"lng\":116.527440,\"lat\":39.936580,\"count\":1},{\"lng\":116.527520,\"lat\":39.936600,\"count\":1},];'"
      ]
     },
     "execution_count": 514,
     "metadata": {},
     "output_type": "execute_result"
    }
   ],
   "source": [
    "s"
   ]
  },
  {
   "cell_type": "code",
   "execution_count": null,
   "metadata": {
    "collapsed": true
   },
   "outputs": [],
   "source": []
  }
 ],
 "metadata": {
  "kernelspec": {
   "display_name": "Python 2",
   "language": "python",
   "name": "python2"
  },
  "language_info": {
   "codemirror_mode": {
    "name": "ipython",
    "version": 2
   },
   "file_extension": ".py",
   "mimetype": "text/x-python",
   "name": "python",
   "nbconvert_exporter": "python",
   "pygments_lexer": "ipython2",
   "version": "2.7.9"
  }
 },
 "nbformat": 4,
 "nbformat_minor": 0
}
